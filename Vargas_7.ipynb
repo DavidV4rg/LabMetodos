{
 "cells": [
  {
   "cell_type": "code",
   "execution_count": 1,
   "metadata": {},
   "outputs": [],
   "source": [
    "import numpy as np\n",
    "import matplotlib.pylab as plt"
   ]
  },
  {
   "cell_type": "code",
   "execution_count": 2,
   "metadata": {},
   "outputs": [
    {
     "data": {
      "text/plain": [
       "34.96618220068791"
      ]
     },
     "execution_count": 2,
     "metadata": {},
     "output_type": "execute_result"
    }
   ],
   "source": [
    "def f(x):\n",
    "    return np.prod(x,axis=1)*np.sin(np.prod(x,axis=1))\n",
    "N= 10000000\n",
    "x = np.random.uniform(0,np.pi,size=(N,5))\n",
    "f(x).sum()/N * (np.pi)**5"
   ]
  },
  {
   "cell_type": "code",
   "execution_count": 3,
   "metadata": {},
   "outputs": [
    {
     "name": "stdout",
     "output_type": "stream",
     "text": [
      "68.72349273361769\n"
     ]
    }
   ],
   "source": [
    "N=10000\n",
    "def f1(x):\n",
    "    return np.prod(x)*np.sin(np.prod(x))\n",
    "inte = 0\n",
    "for i in range(N):\n",
    "    x = np.random.uniform(0,np.pi,size=5)\n",
    "    inte += f1(x)/N\n",
    "print(inte*(np.pi)**5)"
   ]
  },
  {
   "cell_type": "code",
   "execution_count": 4,
   "metadata": {},
   "outputs": [
    {
     "name": "stdout",
     "output_type": "stream",
     "text": [
      "0.13891655968066519\n"
     ]
    }
   ],
   "source": [
    "#2.1\n",
    "N=100000\n",
    "def f2(x,y,z):\n",
    "    return x*y*z*np.log(x+2*y+3*z)*np.sin(x+y+z)\n",
    "inte = 0\n",
    "for i in range(N):\n",
    "    x = np.random.uniform(0,1)\n",
    "    y = np.random.uniform(0,1)\n",
    "    z = np.random.uniform(0,1)\n",
    "    inte += f2(x,y,z)/N\n",
    "    \n",
    "print(inte*(1)**3)"
   ]
  },
  {
   "cell_type": "code",
   "execution_count": 8,
   "metadata": {},
   "outputs": [],
   "source": [
    "#2.2\n",
    "def p(x):\n",
    "    return np.sin(x[0]*x[1]+x[2])\n",
    "def f(x):\n",
    "    return x[0]*x[1]*x[2]*np.log(x[0]+2*x[1]+3*x[2])\n",
    "N=100000\n",
    "x=np.ones(3)/2\n",
    "sigma=0.01\n",
    "integral=[f(x)]\n",
    "K=0.879 #valor dado por Wolfram\n",
    "for i in range(N):\n",
    "    y=x+np.random.normal(0,sigma,size=3)\n",
    "    r=np.random.random()\n",
    "    alpha=min(1,p(y)/p(x))\n",
    "    if r < alpha and np.min(y)>0 and np.max(y)<1:\n",
    "        x=y\n",
    "        integral.append(K*f(x))\n",
    "    else:\n",
    "        integral.append(K*f(x))\n",
    "integral=np.array(integral)\n"
   ]
  },
  {
   "cell_type": "code",
   "execution_count": 19,
   "metadata": {},
   "outputs": [
    {
     "name": "stdout",
     "output_type": "stream",
     "text": [
      "El promedio es: 0.12847518247899045 y la desviacion es +/- 0.0005904624146760662\n"
     ]
    },
    {
     "data": {
      "image/png": "[encoded data removed]",
      "text/plain": [
       "<Figure size 432x288 with 1 Axes>"
      ]
     },
     "metadata": {
      "needs_background": "light"
     },
     "output_type": "display_data"
    }
   ],
   "source": [
    "plt.hist(integral, bins=65)\n",
    "#print(np.mean(integral))\n",
    "print(r\"El promedio es: {} y la desviacion es +/- {}\".format(np.mean(integral),np.std(integral)/np.sqrt(N)))"
   ]
  },
  {
   "cell_type": "code",
   "execution_count": 45,
   "metadata": {},
   "outputs": [],
   "source": [
    "def p(x):\n",
    "    return np.log(x[0]+2*x[1]+3*x[2])*np.sin(x[0]+x[1]+x[2])\n",
    "def f(x):\n",
    "    return x[0]*x[1]*x[2]\n",
    "N=51000\n",
    "m=np.ones(3)/2\n",
    "sigma=0.01\n",
    "integral=[f(x)]\n",
    "K=[]\n",
    "for i in range(N):\n",
    "    y=m+np.random.normal(0,sigma,size=3)\n",
    "    r=np.random.random()\n",
    "    alpha=min(1,p(y)/p(m))\n",
    "    if r < alpha and np.min(y)>0 and np.max(y)<np.pi:\n",
    "        m=y\n",
    "        integral.append(f(m))\n",
    "        K.append(p(m))\n",
    "    else:\n",
    "        integral.append(f(m))\n",
    "        K.append(p(m))\n",
    "integral=np.array(integral)*np.mean(K)\n"
   ]
  },
  {
   "cell_type": "code",
   "execution_count": 46,
   "metadata": {},
   "outputs": [
    {
     "name": "stdout",
     "output_type": "stream",
     "text": [
      "El promedio es: 0.12130975625598794 y la desviacion es +/- 0.0005232852256220933\n"
     ]
    },
    {
     "data": {
      "image/png": "[encoded data removed]",
      "text/plain": [
       "<Figure size 432x288 with 1 Axes>"
      ]
     },
     "metadata": {
      "needs_background": "light"
     },
     "output_type": "display_data"
    }
   ],
   "source": [
    "plt.figure()\n",
    "plt.hist(integral,bins=70)\n",
    "print(r\"El promedio es: {} y la desviacion es +/- {}\".format(np.mean(K)*np.mean(integral),np.std(integral)/np.sqrt(N)))"
   ]
  },
  {
   "cell_type": "code",
   "execution_count": null,
   "metadata": {},
   "outputs": [],
   "source": []
  }
 ],
 "metadata": {
  "kernelspec": {
   "display_name": "Python 3",
   "language": "python",
   "name": "python3"
  },
  "language_info": {
   "codemirror_mode": {
    "name": "ipython",
    "version": 3
   },
   "file_extension": ".py",
   "mimetype": "text/x-python",
   "name": "python",
   "nbconvert_exporter": "python",
   "pygments_lexer": "ipython3",
   "version": "3.7.3"
  }
 },
 "nbformat": 4,
 "nbformat_minor": 2
}
