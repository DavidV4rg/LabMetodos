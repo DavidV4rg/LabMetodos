{
 "cells": [
  {
   "cell_type": "code",
   "execution_count": 28,
   "metadata": {},
   "outputs": [],
   "source": [
    "import numpy as np\n",
    "import matplotlib.pylab as plt"
   ]
  },
  {
   "cell_type": "code",
   "execution_count": 29,
   "metadata": {},
   "outputs": [
    {
     "data": {
      "text/plain": [
       "37.07331424558673"
      ]
     },
     "execution_count": 29,
     "metadata": {},
     "output_type": "execute_result"
    }
   ],
   "source": [
    "def f(x):\n",
    "    return np.prod(x,axis=1)*np.sin(np.prod(x,axis=1))\n",
    "N= 10000000\n",
    "x = np.random.uniform(0,np.pi,size=(N,5))\n",
    "f(x).sum()/N * (np.pi)**5"
   ]
  },
  {
   "cell_type": "code",
   "execution_count": 40,
   "metadata": {},
   "outputs": [
    {
     "name": "stdout",
     "output_type": "stream",
     "text": [
      "34.95935846909817\n"
     ]
    }
   ],
   "source": [
    "N=10000\n",
    "def f1(x):\n",
    "    return np.prod(x)*np.sin(np.prod(x))\n",
    "inte = 0\n",
    "for i in range(N):\n",
    "    x = np.random.uniform(0,np.pi,size=5)\n",
    "    inte += f1(x)/N\n",
    "print(inte*(np.pi)**5)"
   ]
  },
  {
   "cell_type": "code",
   "execution_count": 46,
   "metadata": {},
   "outputs": [
    {
     "name": "stdout",
     "output_type": "stream",
     "text": [
      "0.13759675681180217\n"
     ]
    }
   ],
   "source": [
    "#2.1\n",
    "N=100000\n",
    "def f2(x,y,z):\n",
    "    return x*y*z*np.log(x+2*y+3*z)*np.sin(x+y+z)\n",
    "inte = 0\n",
    "for i in range(N):\n",
    "    x = np.random.uniform(0,1)\n",
    "    y = np.random.uniform(0,1)\n",
    "    z = np.random.uniform(0,1)\n",
    "    inte += f2(x,y,z)/N\n",
    "    \n",
    "print(inte*(1)**3)"
   ]
  },
  {
   "cell_type": "code",
   "execution_count": null,
   "metadata": {},
   "outputs": [],
   "source": [
    "#2.2\n",
    "\n"
   ]
  }
 ],
 "metadata": {
  "kernelspec": {
   "display_name": "Python 3",
   "language": "python",
   "name": "python3"
  },
  "language_info": {
   "codemirror_mode": {
    "name": "ipython",
    "version": 3
   },
   "file_extension": ".py",
   "mimetype": "text/x-python",
   "name": "python",
   "nbconvert_exporter": "python",
   "pygments_lexer": "ipython3",
   "version": "3.7.3"
  }
 },
 "nbformat": 4,
 "nbformat_minor": 2
}
