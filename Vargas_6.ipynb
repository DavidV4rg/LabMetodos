{
 "cells": [
  {
   "cell_type": "code",
   "execution_count": 2,
   "metadata": {},
   "outputs": [],
   "source": [
    "import numpy as np\n",
    "import matplotlib.pylab as plt"
   ]
  },
  {
   "cell_type": "code",
   "execution_count": 2,
   "metadata": {},
   "outputs": [],
   "source": [
    "n_trials = np.logspace(4,12,base=2, num=9)\n",
    "def markov_pi(N, delta):\n",
    "    N_hits = 0\n",
    "    x = 1.0\n",
    "    y = 1.0\n",
    "    for i in range(int (N)):\n",
    "        delta_x = delta * 2 * (np.random.random()-0.5)\n",
    "        delta_y = delta * 2 * (np.random.random()-0.5)\n",
    "        if(abs(x+delta_x)<1 and abs(y+delta_y)<1):\n",
    "            x += delta_x\n",
    "            y += delta_y\n",
    "        if (x**2 + y**2 < 1):\n",
    "            N_hits += 1\n",
    "    return N_hits\n",
    "\n",
    "iteraciones = 500\n",
    "total = []\n",
    "for i in range(len(n_trials)):\n",
    "    lista = []\n",
    "    for g in range (iteraciones):\n",
    "        variable = 4*markov_pi(int (n_trials[i]),0.0625)/float(n_trials[i])\n",
    "        lista.append(variable)\n",
    "    c = ((np.array(lista)-np.pi)**2)**0.5\n",
    "    suma = np.sum(c)/iteraciones\n",
    "    total.append(suma)\n",
    "\n",
    "total1 = []\n",
    "for i in range(len(n_trials)):\n",
    "    lista1 = []\n",
    "    for g in range (iteraciones):\n",
    "        variable1 = 4*markov_pi(int (n_trials[i]),0.125)/float(n_trials[i])\n",
    "        lista1.append(variable1)\n",
    "    c1 = ((np.array(lista1)-np.pi)**2)**0.5\n",
    "    suma1 = np.sum(c1)/iteraciones\n",
    "    total1.append(suma1)\n",
    "    \n",
    "total2 = []\n",
    "for i in range(len(n_trials)):\n",
    "    lista2 = []\n",
    "    for g in range (iteraciones):\n",
    "        variable2 = 4*markov_pi(int (n_trials[i]),0.25)/float(n_trials[i])\n",
    "        lista2.append(variable2)\n",
    "    c2 = ((np.array(lista2)-np.pi)**2)**0.5\n",
    "    suma2 = np.sum(c2)/iteraciones\n",
    "    total2.append(suma2)\n",
    "    \n"
   ]
  },
  {
   "cell_type": "code",
   "execution_count": 3,
   "metadata": {},
   "outputs": [],
   "source": [
    "total3 = []\n",
    "for i in range(len(n_trials)):\n",
    "    lista3 = []\n",
    "    for g in range (iteraciones):\n",
    "        variable3 = 4*markov_pi(int (n_trials[i]),0.5)/float(n_trials[i])\n",
    "        lista3.append(variable3)\n",
    "    c3 = ((np.array(lista3)-np.pi)**2)**0.5\n",
    "    suma3 = np.sum(c3)/iteraciones\n",
    "    total3.append(suma3)\n",
    "    \n",
    "    \n",
    "total4 = []\n",
    "for i in range(len(n_trials)):\n",
    "    lista4 = []\n",
    "    for g in range (iteraciones):\n",
    "        variable4 = 4*markov_pi(int (n_trials[i]),1)/float(n_trials[i])\n",
    "        lista4.append(variable4)\n",
    "    c4 = ((np.array(lista4)-np.pi)**2)**0.5\n",
    "    suma4 = np.sum(c4)/iteraciones\n",
    "    total4.append(suma4)\n",
    "    \n",
    "total5 = []\n",
    "for i in range(len(n_trials)):\n",
    "    lista5 = []\n",
    "    for g in range (iteraciones):\n",
    "        variable5 = 4*markov_pi(int (n_trials[i]),2)/float(n_trials[i])\n",
    "        lista5.append(variable5)\n",
    "    c5 = ((np.array(lista5)-np.pi)**2)**0.5\n",
    "    suma5 = np.sum(c5)/iteraciones\n",
    "    total5.append(suma5)\n",
    "    \n",
    "total6 = []\n",
    "for i in range(len(n_trials)):\n",
    "    lista6 = []\n",
    "    for g in range (iteraciones):\n",
    "        variable6 = 4*markov_pi(int (n_trials[i]),4)/float(n_trials[i])\n",
    "        lista6.append(variable6)\n",
    "    c6 = ((np.array(lista6)-np.pi)**2)**0.5\n",
    "    suma6 = np.sum(c6)/iteraciones\n",
    "    total6.append(suma6)"
   ]
  },
  {
   "cell_type": "code",
   "execution_count": 12,
   "metadata": {
    "scrolled": true
   },
   "outputs": [
    {
     "name": "stderr",
     "output_type": "stream",
     "text": [
      "/srv/conda/envs/notebook/lib/python3.7/site-packages/ipykernel_launcher.py:4: MatplotlibDeprecationWarning: Adding an axes using the same arguments as a previous axes currently reuses the earlier instance.  In a future version, a new instance will always be created and returned.  Meanwhile, this warning can be suppressed, and the future behavior ensured, by passing a unique label to each axes instance.\n",
      "  after removing the cwd from sys.path.\n"
     ]
    },
    {
     "data": {
      "text/plain": [
       "<matplotlib.legend.Legend at 0x7f0c9c0459e8>"
      ]
     },
     "execution_count": 12,
     "metadata": {},
     "output_type": "execute_result"
    },
    {
     "data": {
      "image/png": "[encoded data removed]",
      "text/plain": [
       "<Figure size 504x360 with 1 Axes>"
      ]
     },
     "metadata": {
      "needs_background": "light"
     },
     "output_type": "display_data"
    }
   ],
   "source": [
    "plt.figure(figsize=(7,5))\n",
    "plt.xscale(\"log\")\n",
    "plt.yscale(\"log\")\n",
    "axes = plt.axes()\n",
    "axes.set_ylim([10**-2.5, 10**1])\n",
    "axes.set_xlim([10**1, 10**4])\n",
    "plt.scatter(n_trials,total, label = r\"\\delta = 0.625\")\n",
    "plt.scatter(n_trials,total1, label = r\"\\delta = 0.125\")\n",
    "plt.scatter(n_trials,total2, label = r\"\\delta = 0.25\")\n",
    "plt.scatter(n_trials,total3, label = r\"\\delta = 0.5\")\n",
    "plt.scatter(n_trials,total4, label = r\"\\delta = 1.0\")\n",
    "plt.scatter(n_trials,total5, label = r\"\\delta = 2.0\")\n",
    "plt.scatter(n_trials,total6, label = r\"\\delta = 4.0\")\n",
    "plt.legend()"
   ]
  },
  {
   "cell_type": "code",
   "execution_count": 7,
   "metadata": {},
   "outputs": [
    {
     "data": {
      "text/plain": [
       "(array([138., 390., 335.,  53.,   0.,  10.,  29.,  31.,  10.,   4.]),\n",
       " array([0. , 0.8, 1.6, 2.4, 3.2, 4. , 4.8, 5.6, 6.4, 7.2, 8. ]),\n",
       " <a list of 10 Patch objects>)"
      ]
     },
     "execution_count": 7,
     "metadata": {},
     "output_type": "execute_result"
    },
    {
     "data": {
      "image/png": "[encoded data removed]",
      "text/plain": [
       "<Figure size 432x288 with 1 Axes>"
      ]
     },
     "metadata": {
      "needs_background": "light"
     },
     "output_type": "display_data"
    }
   ],
   "source": [
    "#Posiciones de la pelota en una grilla.\n",
    "\n",
    "matriz =  [[1, 2, 3, 0], [1, 2, 0, 1], [1, 2, 1, 2],\n",
    "             [2, 6, 2, 1], [8, 7, 2, 1], [0, 5, 6, 4],\n",
    "             [3, 4, 5, 3], [5, 7, 4, 4], [5, 8, 7, 5]]\n",
    "maxi = 1000\n",
    "point = 3\n",
    "t = 0\n",
    "lis = []\n",
    "for i in range(maxi):\n",
    "    t += 1\n",
    "    point = matriz[point][np.random.randint(0, 3)]\n",
    "    lis.append(point)\n",
    "    \n",
    "plt.figure()\n",
    "plt.hist(lis)"
   ]
  },
  {
   "cell_type": "code",
   "execution_count": null,
   "metadata": {},
   "outputs": [],
   "source": []
  }
 ],
 "metadata": {
  "kernelspec": {
   "display_name": "Python 3",
   "language": "python",
   "name": "python3"
  },
  "language_info": {
   "codemirror_mode": {
    "name": "ipython",
    "version": 3
   },
   "file_extension": ".py",
   "mimetype": "text/x-python",
   "name": "python",
   "nbconvert_exporter": "python",
   "pygments_lexer": "ipython3",
   "version": "3.7.3"
  }
 },
 "nbformat": 4,
 "nbformat_minor": 2
}
