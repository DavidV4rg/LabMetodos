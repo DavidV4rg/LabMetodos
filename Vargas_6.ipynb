{
 "cells": [
  {
   "cell_type": "code",
   "execution_count": 36,
   "metadata": {},
   "outputs": [],
   "source": [
    "import numpy as np\n",
    "import matplotlib.pylab as plt\n",
    "n_trials = np.logspace(4,12,base=2, num=9)"
   ]
  },
  {
   "cell_type": "code",
   "execution_count": 37,
   "metadata": {},
   "outputs": [],
   "source": [
    "n_trials = np.logspace(4,12,base=2, num=9)\n",
    "def markov_pi(N, delta):\n",
    "    N_hits = 0\n",
    "    x = 1.0\n",
    "    y = 1.0\n",
    "    delta = 0.1\n",
    "    for i in range(int (N)):\n",
    "        delta_x = delta *np.random.uniform(-1,1)\n",
    "        delta_y = delta *np.random.uniform(-1,1)\n",
    "        if(abs(x+delta_x)<1 and abs(y+delta_y)<1):\n",
    "            x += delta_x\n",
    "            y += delta_y\n",
    "        if (x**2 + y**2 < 1):\n",
    "            N_hits += 1\n",
    "    return N_hits\n",
    "\n",
    "iteraciones = 500\n",
    "total = []\n",
    "for i in range(len(n_trials)):\n",
    "    lista = []\n",
    "    for g in range (iteraciones):\n",
    "        variable = 4*markov_pi(int (n_trials[i]),0.0625)/float(n_trials[i])\n",
    "        lista.append(variable)\n",
    "    c = ((np.array(lista)-np.pi)**2)**0.5\n",
    "    suma = np.sum(c)/iteraciones\n",
    "    total.append(suma)\n",
    "\n",
    "total1 = []\n",
    "for i in range(len(n_trials)):\n",
    "    lista1 = []\n",
    "    for g in range (iteraciones):\n",
    "        variable1 = 4*markov_pi(int (n_trials[i]),0.125)/float(n_trials[i])\n",
    "        lista1.append(variable1)\n",
    "    c1 = ((np.array(lista1)-np.pi)**2)**0.5\n",
    "    suma1 = np.sum(c1)/iteraciones\n",
    "    total1.append(suma1)\n",
    "    \n",
    "total2 = []\n",
    "for i in range(len(n_trials)):\n",
    "    lista2 = []\n",
    "    for g in range (iteraciones):\n",
    "        variable2 = 4*markov_pi(int (n_trials[i]),0.25)/float(n_trials[i])\n",
    "        lista2.append(variable2)\n",
    "    c2 = ((np.array(lista2)-np.pi)**2)**0.5\n",
    "    suma2 = np.sum(c2)/iteraciones\n",
    "    total2.append(suma2)\n",
    "    \n"
   ]
  },
  {
   "cell_type": "code",
   "execution_count": 38,
   "metadata": {},
   "outputs": [],
   "source": [
    "total3 = []\n",
    "for i in range(len(n_trials)):\n",
    "    lista3 = []\n",
    "    for g in range (iteraciones):\n",
    "        variable3 = 4*markov_pi(int (n_trials[i]),0.5)/float(n_trials[i])\n",
    "        lista3.append(variable3)\n",
    "    c3 = ((np.array(lista3)-np.pi)**2)**0.5\n",
    "    suma3 = np.sum(c3)/iteraciones\n",
    "    total3.append(suma3)\n",
    "    \n",
    "    \n",
    "total4 = []\n",
    "for i in range(len(n_trials)):\n",
    "    lista4 = []\n",
    "    for g in range (iteraciones):\n",
    "        variable4 = 4*markov_pi(int (n_trials[i]),1)/float(n_trials[i])\n",
    "        lista4.append(variable4)\n",
    "    c4 = ((np.array(lista4)-np.pi)**2)**0.5\n",
    "    suma4 = np.sum(c4)/iteraciones\n",
    "    total4.append(suma4)\n",
    "    \n",
    "total5 = []\n",
    "for i in range(len(n_trials)):\n",
    "    lista5 = []\n",
    "    for g in range (iteraciones):\n",
    "        variable5 = 4*markov_pi(int (n_trials[i]),2)/float(n_trials[i])\n",
    "        lista5.append(variable5)\n",
    "    c5 = ((np.array(lista5)-np.pi)**2)**0.5\n",
    "    suma5 = np.sum(c5)/iteraciones\n",
    "    total5.append(suma5)\n",
    "    \n",
    "total6 = []\n",
    "for i in range(len(n_trials)):\n",
    "    lista6 = []\n",
    "    for g in range (iteraciones):\n",
    "        variable6 = 4*markov_pi(int (n_trials[i]),4)/float(n_trials[i])\n",
    "        lista6.append(variable6)\n",
    "    c6 = ((np.array(lista6)-np.pi)**2)**0.5\n",
    "    suma6 = np.sum(c6)/iteraciones\n",
    "    total6.append(suma6)"
   ]
  },
  {
   "cell_type": "code",
   "execution_count": 47,
   "metadata": {
    "scrolled": true
   },
   "outputs": [
    {
     "name": "stderr",
     "output_type": "stream",
     "text": [
      "/srv/conda/envs/notebook/lib/python3.7/site-packages/ipykernel_launcher.py:4: MatplotlibDeprecationWarning: Adding an axes using the same arguments as a previous axes currently reuses the earlier instance.  In a future version, a new instance will always be created and returned.  Meanwhile, this warning can be suppressed, and the future behavior ensured, by passing a unique label to each axes instance.\n",
      "  after removing the cwd from sys.path.\n"
     ]
    },
    {
     "data": {
      "text/plain": [
       "<matplotlib.legend.Legend at 0x7f6a5e805e48>"
      ]
     },
     "execution_count": 47,
     "metadata": {},
     "output_type": "execute_result"
    },
    {
     "data": {
      "image/png": "[encoded data removed]",
      "text/plain": [
       "<Figure size 432x288 with 1 Axes>"
      ]
     },
     "metadata": {
      "needs_background": "light"
     },
     "output_type": "display_data"
    }
   ],
   "source": [
    "plt.figure()\n",
    "plt.xscale(\"log\")\n",
    "plt.yscale(\"log\")\n",
    "axes = plt.axes()\n",
    "axes.set_ylim([10**-1, 10**0.6])\n",
    "axes.set_xlim([10, 10**4])\n",
    "plt.scatter(n_trials,total, label = r\"\\delta = 0.625\")\n",
    "plt.scatter(n_trials,total1, label = r\"\\delta = 0.125\")\n",
    "plt.scatter(n_trials,total2, label = r\"\\delta = 0.25\")\n",
    "plt.scatter(n_trials,total3, label = r\"\\delta = 0.5\")\n",
    "plt.scatter(n_trials,total4, label = r\"\\delta = 1\")\n",
    "plt.scatter(n_trials,total5, label = r\"\\delta = 2\")\n",
    "plt.scatter(n_trials,total6, label = r\"\\delta = 4\")\n",
    "plt.legend()"
   ]
  },
  {
   "cell_type": "code",
   "execution_count": null,
   "metadata": {},
   "outputs": [],
   "source": []
  }
 ],
 "metadata": {
  "kernelspec": {
   "display_name": "Python 3",
   "language": "python",
   "name": "python3"
  },
  "language_info": {
   "codemirror_mode": {
    "name": "ipython",
    "version": 3
   },
   "file_extension": ".py",
   "mimetype": "text/x-python",
   "name": "python",
   "nbconvert_exporter": "python",
   "pygments_lexer": "ipython3",
   "version": "3.7.3"
  }
 },
 "nbformat": 4,
 "nbformat_minor": 2
}
